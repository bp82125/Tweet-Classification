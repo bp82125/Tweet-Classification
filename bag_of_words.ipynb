{
 "cells": [
  {
   "cell_type": "code",
   "execution_count": null,
   "metadata": {},
   "outputs": [],
   "source": [
    "import pandas as pd\n",
    "from sklearn.feature_extraction.text import CountVectorizer\n",
    "from sklearn.model_selection import train_test_split\n",
    "\n",
    "df = pd.read_csv('processed_data.csv')\n",
    "\n",
    "X = df['text']\n",
    "y = df['target']\n",
    "\n",
    "vectorizer = CountVectorizer()\n",
    "\n",
    "X_vectorized = vectorizer.fit_transform(X)\n",
    "\n",
    "print(\"Vectorized data shape: \", X_vectorized.shape)\n",
    "print(\"Number of classes: \", len(y.unique()))"
   ]
  },
  {
   "cell_type": "code",
   "execution_count": 11,
   "metadata": {},
   "outputs": [],
   "source": [
    "from sklearn.ensemble import RandomForestClassifier\n",
    "from sklearn.linear_model import LogisticRegression\n",
    "from sklearn.naive_bayes import MultinomialNB\n",
    "from sklearn.neighbors import KNeighborsClassifier\n",
    "from sklearn.svm import SVC\n",
    "from sklearn.tree import DecisionTreeClassifier\n",
    "\n",
    "models = {\n",
    "    \"KNN\": KNeighborsClassifier(n_neighbors=7),\n",
    "    \"Bayes\": MultinomialNB(),\n",
    "    \"Decision Tree\": DecisionTreeClassifier(max_depth=50, min_samples_split=4, criterion='gini', random_state=42),\n",
    "    \"Random Forest\": RandomForestClassifier(n_estimators=200, max_depth=100, min_samples_split=4, criterion='entropy'),\n",
    "    \"Logistic Regression\": LogisticRegression(C=0.1, random_state=42, max_iter=1000),\n",
    "    \"SVM Linear\": SVC(kernel='linear', C=1.0, random_state=42),\n",
    "    \"SVM Non-linear\": SVC(kernel='rbf', C=1.0, gamma='scale', random_state=42),\n",
    "}"
   ]
  },
  {
   "cell_type": "code",
   "execution_count": null,
   "metadata": {},
   "outputs": [],
   "source": [
    "import numpy as np\n",
    "from sklearn.metrics import accuracy_score, precision_score, recall_score, f1_score\n",
    "\n",
    "metrics = {model_name: {'accuracy': [], 'precision': [],\n",
    "                        'recall': [], 'f1': []} for model_name in models.keys()}\n",
    "\n",
    "for _ in range(20):\n",
    "    X_train, X_test, y_train, y_test = train_test_split(\n",
    "        X_vectorized, y, test_size=0.2, shuffle=True)\n",
    "\n",
    "    for model_name, model in models.items():\n",
    "        model.fit(X_train, y_train)\n",
    "        if model_name == \"Logistic Regression\":\n",
    "            y_prob = model.predict_proba(X_test)[:, 1]\n",
    "            y_pred = (y_prob >= 0.5).astype(int)\n",
    "        else:\n",
    "            y_pred = model.predict(X_test)\n",
    "\n",
    "        accuracy = accuracy_score(y_test, y_pred)\n",
    "        precision = precision_score(\n",
    "            y_test, y_pred, average='binary', zero_division=0)\n",
    "        recall = recall_score(\n",
    "            y_test, y_pred, average='binary', zero_division=0)\n",
    "        f1 = f1_score(y_test, y_pred, average='binary', zero_division=0)\n",
    "\n",
    "        metrics[model_name]['accuracy'].append(accuracy)\n",
    "        metrics[model_name]['precision'].append(precision)\n",
    "        metrics[model_name]['recall'].append(recall)\n",
    "        metrics[model_name]['f1'].append(f1)\n",
    "\n",
    "mean_metrics = {model_name: {metric: np.mean(values) for metric, values in model_metrics.items()}\n",
    "                for model_name, model_metrics in metrics.items()}\n",
    "\n",
    "for model_name, mean in mean_metrics.items():\n",
    "    print(f\"{model_name} Mean Metrics:\")\n",
    "    print(f\"  Accuracy: {mean['accuracy']:.4f}\")\n",
    "    print(f\"  Precision: {mean['precision']:.4f}\")\n",
    "    print(f\"  Recall: {mean['recall']:.4f}\")\n",
    "    print(f\"  F1 Score: {mean['f1']:.4f}\\n\")"
   ]
  }
 ],
 "metadata": {
  "kernelspec": {
   "display_name": ".venv",
   "language": "python",
   "name": "python3"
  },
  "language_info": {
   "codemirror_mode": {
    "name": "ipython",
    "version": 3
   },
   "file_extension": ".py",
   "mimetype": "text/x-python",
   "name": "python",
   "nbconvert_exporter": "python",
   "pygments_lexer": "ipython3",
   "version": "3.12.3"
  }
 },
 "nbformat": 4,
 "nbformat_minor": 2
}
