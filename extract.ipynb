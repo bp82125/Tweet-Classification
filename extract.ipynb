{
 "cells": [
  {
   "cell_type": "code",
   "execution_count": 2,
   "metadata": {},
   "outputs": [],
   "source": [
    "import pandas as pd\n",
    "\n",
    "df = pd.read_csv('Disaster_Tweets_train.csv')\n",
    "empty_location_df = df[df['location'].isna()]\n",
    "\n",
    "filtered_df = empty_location_df[['id', 'location', 'text']]\n",
    "filtered_df.to_csv('filtered_location_empty.csv', index=False)"
   ]
  },
  {
   "cell_type": "code",
   "execution_count": 2,
   "metadata": {},
   "outputs": [],
   "source": [
    "import re\n",
    "import pandas as pd\n",
    "\n",
    "df = pd.read_csv('Disaster_Tweets_train.csv')\n",
    "\n",
    "def extract_hashtags(text):\n",
    "    if pd.isna(text):\n",
    "        return ''\n",
    "    hashtags = re.findall(r'#\\w+', text)\n",
    "    return ' '.join(hashtags)\n",
    "\n",
    "df['text'] = df['text'].apply(extract_hashtags)\n",
    "df_filtered = df[df['text'] != '']\n",
    "\n",
    "new_df = df_filtered[['id', 'text']]\n",
    "new_df.to_csv('hashtags.csv', index=False)"
   ]
  }
 ],
 "metadata": {
  "kernelspec": {
   "display_name": ".venv",
   "language": "python",
   "name": "python3"
  },
  "language_info": {
   "codemirror_mode": {
    "name": "ipython",
    "version": 3
   },
   "file_extension": ".py",
   "mimetype": "text/x-python",
   "name": "python",
   "nbconvert_exporter": "python",
   "pygments_lexer": "ipython3",
   "version": "3.12.3"
  }
 },
 "nbformat": 4,
 "nbformat_minor": 2
}
