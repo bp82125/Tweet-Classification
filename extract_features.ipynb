{
 "cells": [
  {
   "cell_type": "code",
   "execution_count": 5,
   "metadata": {},
   "outputs": [
    {
     "name": "stdout",
     "output_type": "stream",
     "text": [
      "DataFrame rows with NaN in 'text':\n",
      "        id          keyword                  location text  target\n",
      "19      28              NaN                       NaN  NaN       0\n",
      "24      36              NaN                       NaN  NaN       0\n",
      "28      40              NaN                       NaN  NaN       0\n",
      "431    624         arsonist                       NaN  NaN       0\n",
      "433    628         arsonist                       NaN  NaN       0\n",
      "811   1178           blight                       NaN  NaN       0\n",
      "820   1191         blizzard                       NaN  NaN       0\n",
      "823   1198         blizzard                  colorado  NaN       0\n",
      "1758  2530        collision  orange county california  NaN       1\n",
      "1847  2657            crush                       NaN  NaN       1\n",
      "2967  4262         drowning         hendersonville nc  NaN       0\n",
      "3045  4372       earthquake           barcelona spain  NaN       0\n",
      "3056  4384       earthquake                       NaN  NaN       0\n",
      "3663  5213         fatality                       NaN  NaN       1\n",
      "4234  6015        hazardous                       NaN  NaN       1\n",
      "4497  6394        hurricane                       NaN  NaN       1\n",
      "5115  7295  nuclear reactor                       NaN  NaN       0\n",
      "6129  8745            siren                       NaN  NaN       0\n",
      "6133  8751            siren                       NaN  NaN       0\n",
      "6766  9697          tornado                       NaN  NaN       0\n"
     ]
    }
   ],
   "source": [
    "import pandas as pd\n",
    "from sklearn.feature_extraction.text import TfidfVectorizer\n",
    "from sklearn.model_selection import train_test_split\n",
    "\n",
    "df = pd.read_csv('processed_data.csv')\n",
    "\n",
    "na_rows = df[df['text'].isna()]\n",
    "\n",
    "print(\"DataFrame rows with NaN in 'text':\")\n",
    "print(na_rows)"
   ]
  },
  {
   "cell_type": "code",
   "execution_count": null,
   "metadata": {},
   "outputs": [],
   "source": [
    "X = df['text']\n",
    "y = df['target']\n",
    "\n",
    "X_train, X_test, y_train, y_test = train_test_split(\n",
    "    X, y, test_size=0.2, random_state=42)\n",
    "\n",
    "vectorizer = TfidfVectorizer()\n",
    "\n",
    "X_train_vectorized = vectorizer.fit_transform(X_train)\n",
    "\n",
    "X_test_vectorized = vectorizer.transform(X_test)\n",
    "\n",
    "print(\"Training data shape:\", X_train_vectorized.shape)\n",
    "print(\"Testing data shape:\", X_test_vectorized.shape)"
   ]
  }
 ],
 "metadata": {
  "kernelspec": {
   "display_name": ".venv",
   "language": "python",
   "name": "python3"
  },
  "language_info": {
   "codemirror_mode": {
    "name": "ipython",
    "version": 3
   },
   "file_extension": ".py",
   "mimetype": "text/x-python",
   "name": "python",
   "nbconvert_exporter": "python",
   "pygments_lexer": "ipython3",
   "version": "3.12.3"
  }
 },
 "nbformat": 4,
 "nbformat_minor": 2
}
