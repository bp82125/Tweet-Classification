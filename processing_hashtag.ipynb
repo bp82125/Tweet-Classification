{
 "cells": [
  {
   "cell_type": "code",
   "execution_count": 12,
   "metadata": {},
   "outputs": [],
   "source": [
    "import re\n",
    "\n",
    "def split_hashtag(text):\n",
    "    return re.sub(r'([a-z])([A-Z])', r'\\1 \\2', text)"
   ]
  },
  {
   "cell_type": "code",
   "execution_count": 19,
   "metadata": {},
   "outputs": [],
   "source": [
    "from nltk.tokenize import word_tokenize\n",
    "from nltk.stem import WordNetLemmatizer\n",
    "from nltk.corpus import words as nltk_words\n",
    "\n",
    "lemmatizer = WordNetLemmatizer()\n",
    "valid_words = set(nltk_words.words())\n",
    "\n",
    "def process_text(text):\n",
    "    text_no_hashtag = re.sub(r'#', '', text)\n",
    "    text_split_camel = split_hashtag(text_no_hashtag)\n",
    "\n",
    "    tokens = word_tokenize(text_split_camel)\n",
    "    tokens = [token.lower() for token in tokens]\n",
    "\n",
    "    processed_tokens = []\n",
    "    for token in tokens:\n",
    "        lemmatized_token = lemmatizer.lemmatize(token)\n",
    "        if lemmatized_token in valid_words:\n",
    "            processed_tokens.append(lemmatized_token)\n",
    "\n",
    "    return ' '.join(processed_tokens)"
   ]
  },
  {
   "cell_type": "code",
   "execution_count": 20,
   "metadata": {},
   "outputs": [
    {
     "data": {
      "text/plain": [
       "'aftershock'"
      ]
     },
     "execution_count": 20,
     "metadata": {},
     "output_type": "execute_result"
    }
   ],
   "source": [
    "process_text(\"#aftershock\")"
   ]
  },
  {
   "cell_type": "code",
   "execution_count": 22,
   "metadata": {},
   "outputs": [],
   "source": [
    "import pandas as pd\n",
    "\n",
    "df = pd.read_csv('hashtags.csv')\n",
    "df['text'] = df['text'].apply(process_text)\n",
    "\n",
    "output_file = 'processed_hashtags.csv'\n",
    "df.to_csv(output_file, index=False)"
   ]
  }
 ],
 "metadata": {
  "kernelspec": {
   "display_name": ".venv",
   "language": "python",
   "name": "python3"
  },
  "language_info": {
   "codemirror_mode": {
    "name": "ipython",
    "version": 3
   },
   "file_extension": ".py",
   "mimetype": "text/x-python",
   "name": "python",
   "nbconvert_exporter": "python",
   "pygments_lexer": "ipython3",
   "version": "3.12.3"
  }
 },
 "nbformat": 4,
 "nbformat_minor": 2
}
