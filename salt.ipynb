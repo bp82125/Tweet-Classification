{
 "cells": [
  {
   "cell_type": "code",
   "execution_count": 10,
   "metadata": {},
   "outputs": [],
   "source": [
    "salt = 'DHCT'\n",
    "text = 'ATBMTT'\n",
    "\n",
    "char_set = 'ABCDEFGHIJKLMNOPQRSTUVWXYZ'"
   ]
  },
  {
   "cell_type": "code",
   "execution_count": 12,
   "metadata": {},
   "outputs": [
    {
     "name": "stdout",
     "output_type": "stream",
     "text": [
      "{'R', 'Y', 'Z', 'F', 'I', 'G', 'P', 'E', 'W', 'M', 'X', 'L', 'K', 'Q', 'A', 'S', 'N', 'J', 'U', 'B', 'O', 'V'}\n",
      "ADTHBCMTTRTY\n"
     ]
    }
   ],
   "source": [
    "set1 = set(salt)\n",
    "set2 = set(char_set)\n",
    "\n",
    "difference = set2.difference(set1)\n",
    "\n",
    "res = \"\"\n",
    "for i, c in enumerate(text):\n",
    "    res += c\n",
    "    if i < len(salt):\n",
    "        res += salt[i]\n",
    "    else:\n",
    "        res += difference.pop()\n",
    "        "
   ]
  },
  {
   "cell_type": "code",
   "execution_count": 13,
   "metadata": {},
   "outputs": [
    {
     "data": {
      "text/plain": [
       "'ADTHBCMTTRTY'"
      ]
     },
     "execution_count": 13,
     "metadata": {},
     "output_type": "execute_result"
    }
   ],
   "source": [
    "char_set = 'ABCDEFGHIJKLMNOPQRSTUVWXYZ'\n",
    "\n",
    "def salt_text(salt, text):\n",
    "    set1 = set(salt)\n",
    "    set2 = set(char_set)\n",
    "\n",
    "    difference = set2.difference(set1)\n",
    "\n",
    "    res = \"\"\n",
    "    for i, c in enumerate(text):\n",
    "        res += c\n",
    "        if i < len(salt):\n",
    "            res += salt[i]\n",
    "        else:\n",
    "            res += difference.pop()\n",
    "    \n",
    "    return res\n",
    "\n",
    "salt_text(salt, text)"
   ]
  }
 ],
 "metadata": {
  "kernelspec": {
   "display_name": ".venv",
   "language": "python",
   "name": "python3"
  },
  "language_info": {
   "codemirror_mode": {
    "name": "ipython",
    "version": 3
   },
   "file_extension": ".py",
   "mimetype": "text/x-python",
   "name": "python",
   "nbconvert_exporter": "python",
   "pygments_lexer": "ipython3",
   "version": "3.12.3"
  }
 },
 "nbformat": 4,
 "nbformat_minor": 2
}
