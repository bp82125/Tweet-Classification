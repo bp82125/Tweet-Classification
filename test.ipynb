{
 "cells": [
  {
   "cell_type": "code",
   "execution_count": 57,
   "metadata": {},
   "outputs": [
    {
     "name": "stdout",
     "output_type": "stream",
     "text": [
      "Data has been successfully written to location.csv\n"
     ]
    }
   ],
   "source": [
    "import csv\n",
    "\n",
    "def extract_id_and_location(input_file, output_file):\n",
    "    try:\n",
    "        # Open the input CSV file\n",
    "        with open(input_file, mode='r', encoding='utf-8') as infile:\n",
    "            reader = csv.DictReader(infile)\n",
    "            \n",
    "            # Open the output CSV file\n",
    "            with open(output_file, mode='w', newline='', encoding='utf-8') as outfile:\n",
    "                # Define the column names for the output CSV\n",
    "                fieldnames = ['id', 'location']\n",
    "                writer = csv.DictWriter(outfile, fieldnames=fieldnames)\n",
    "                \n",
    "                # Write the header\n",
    "                writer.writeheader()\n",
    "                \n",
    "                # Extract 'id' and 'location' and write to output file\n",
    "                for row in reader:\n",
    "                    # Write only the id and location columns\n",
    "                    writer.writerow({'id': row['id'], 'location': row['location']})\n",
    "        \n",
    "        print(f\"Data has been successfully written to {output_file}\")\n",
    "    \n",
    "    except Exception as e:\n",
    "        print(f\"An error occurred: {e}\")\n",
    "\n",
    "# Example usage\n",
    "input_file = 'input.csv'  # Path to your input CSV file\n",
    "output_file = 'output.csv'  # Path to your output CSV file\n",
    "extract_id_and_location(input_file, output_file)\n"
   ]
  },
  {
   "cell_type": "code",
   "execution_count": 208,
   "metadata": {},
   "outputs": [],
   "source": [
    "import pandas as pd\n",
    "\n",
    "data = pd.read_csv(\"mergedHashtag.csv\")"
   ]
  },
  {
   "cell_type": "code",
   "execution_count": 209,
   "metadata": {},
   "outputs": [
    {
     "name": "stdout",
     "output_type": "stream",
     "text": [
      "<class 'pandas.core.frame.DataFrame'>\n",
      "RangeIndex: 7613 entries, 0 to 7612\n",
      "Data columns (total 5 columns):\n",
      " #   Column    Non-Null Count  Dtype \n",
      "---  ------    --------------  ----- \n",
      " 0   id        7613 non-null   int64 \n",
      " 1   keyword   7552 non-null   object\n",
      " 2   location  5080 non-null   object\n",
      " 3   target    7613 non-null   int64 \n",
      " 4   text      7613 non-null   object\n",
      "dtypes: int64(2), object(3)\n",
      "memory usage: 297.5+ KB\n"
     ]
    }
   ],
   "source": [
    "data.info()"
   ]
  },
  {
   "cell_type": "code",
   "execution_count": 211,
   "metadata": {},
   "outputs": [
    {
     "data": {
      "text/plain": [
       "'just got sent this photo from ruby  as smoke from  pours into a school  wildfire'"
      ]
     },
     "execution_count": 211,
     "metadata": {},
     "output_type": "execute_result"
    }
   ],
   "source": [
    "data['text'][4]"
   ]
  },
  {
   "cell_type": "code",
   "execution_count": 160,
   "metadata": {},
   "outputs": [
    {
     "name": "stderr",
     "output_type": "stream",
     "text": [
      "[nltk_data] Downloading package stopwords to /home/nt/nltk_data...\n",
      "[nltk_data]   Package stopwords is already up-to-date!\n",
      "[nltk_data] Downloading package wordnet to /home/nt/nltk_data...\n",
      "[nltk_data]   Package wordnet is already up-to-date!\n",
      "[nltk_data] Downloading package words to /home/nt/nltk_data...\n",
      "[nltk_data]   Package words is already up-to-date!\n",
      "[nltk_data] Downloading package punkt_tab to /home/nt/nltk_data...\n",
      "[nltk_data]   Package punkt_tab is already up-to-date!\n",
      "[nltk_data] Downloading package averaged_perceptron_tagger_eng to\n",
      "[nltk_data]     /home/nt/nltk_data...\n",
      "[nltk_data]   Package averaged_perceptron_tagger_eng is already up-to-\n",
      "[nltk_data]       date!\n"
     ]
    },
    {
     "data": {
      "text/plain": [
       "True"
      ]
     },
     "execution_count": 160,
     "metadata": {},
     "output_type": "execute_result"
    }
   ],
   "source": [
    "import nltk\n",
    "\n",
    "nltk.download('stopwords')\n",
    "nltk.download('wordnet')\n",
    "nltk.download('words')\n",
    "nltk.download('punkt_tab')\n",
    "nltk.download('averaged_perceptron_tagger_eng')"
   ]
  },
  {
   "cell_type": "code",
   "execution_count": null,
   "metadata": {},
   "outputs": [],
   "source": [
    "%pip install -U nltk\n",
    "%python -m nltk.downloader popular\n",
    "%pip install -U pywsd"
   ]
  },
  {
   "cell_type": "code",
   "execution_count": 212,
   "metadata": {},
   "outputs": [],
   "source": [
    "import re\n",
    "import string\n",
    "import json\n",
    "\n",
    "from nltk.corpus import stopwords, words as nltk_words\n",
    "from nltk.stem import WordNetLemmatizer\n",
    "\n",
    "lemmatizer = WordNetLemmatizer()\n",
    "stop_words = set(stopwords.words('english'))\n",
    "english_words = set(nltk_words.words())\n",
    "\n",
    "with open('abbreviations.json', 'r') as f:\n",
    "    contractions = json.load(f)\n",
    "\n",
    "\n",
    "def expand_contractions(text):\n",
    "    for contraction, full_form in contractions.items():\n",
    "        text = re.sub(r'\\b' + re.escape(contraction) + r'\\b', full_form, text)\n",
    "\n",
    "    return text\n",
    "\n",
    "\n",
    "def split_hashtag(hashtag):\n",
    "    hashtag = hashtag[1:]\n",
    "    split_words = re.sub(r'([a-z])([A-Z])', r'\\1 \\2', hashtag)\n",
    "    split_words = re.sub(r'[^a-zA-Z]', ' ', split_words)\n",
    "    return split_words\n",
    "\n",
    "\n",
    "def is_english_word(word):\n",
    "    return word.lower() in english_words"
   ]
  },
  {
   "cell_type": "code",
   "execution_count": 223,
   "metadata": {},
   "outputs": [],
   "source": [
    "from nltk.tokenize import word_tokenize\n",
    "from nltk import pos_tag\n",
    "from nltk.corpus import wordnet as wn\n",
    "\n",
    "def preprocess_text(text):\n",
    "    text = text.lower()\n",
    "    \n",
    "\n",
    "    text = expand_contractions(text)\n",
    "    \n",
    "\n",
    "    text = re.sub(r'@\\w+', '', text)\n",
    "    # bỏ @...\n",
    "    \n",
    "\n",
    "    text = re.sub(r'http[s]?://\\S+', '', text)\n",
    "    # bỏ link\n",
    "    \n",
    "\n",
    "    text = text.translate(str.maketrans('', '', string.punctuation))\n",
    "    # bỏ dấu câu và ký tự đặc biệt\n",
    "    \n",
    "\n",
    "    text = re.sub(r'[^\\x00-\\x7F]+', '', text)\n",
    "    # bỏ ký tự # unicode\n",
    "    \n",
    "\n",
    "    text = re.sub(r'\\b[A-Za-z0-9._%+-]+@[A-Za-z0-9.-]+\\.[A-Z|a-z]{2,}\\b', '', text)\n",
    "    # bỏ email\n",
    "    \n",
    "\n",
    "\n",
    "    # Tokenization\n",
    "    tokens = word_tokenize(text)\n",
    "\n",
    "    filtered_tokens = []\n",
    "\n",
    "    for word in tokens:\n",
    "\n",
    "        if len(word) == 1:\n",
    "            continue\n",
    "\n",
    "        # Initialize a flag to check if we found a valid lemmatized word\n",
    "        found_valid_word = False\n",
    "\n",
    "        # Check lemmatization for all possible POS tags\n",
    "        for pos in [wn.VERB, wn.ADJ, wn.ADV, wn.NOUN]:\n",
    "            lemmatized_token = lemmatizer.lemmatize(word, pos=pos)\n",
    "\n",
    "            # Check if the lemmatized token is an English word\n",
    "            if is_english_word(lemmatized_token) and lemmatized_token not in stop_words:\n",
    "                filtered_tokens.append(lemmatized_token)\n",
    "                found_valid_word = True\n",
    "                break  # Exit the loop since we found a valid word\n",
    "\n",
    "        # If no valid word was found, you could also check the original word if needed\n",
    "        if not found_valid_word and is_english_word(word) and word not in stop_words:\n",
    "            filtered_tokens.append(word)\n",
    "\n",
    "\n",
    "    return ' '.join(filtered_tokens)\n",
    "\n",
    "# Chuyển từ số nhiều về số ít"
   ]
  },
  {
   "cell_type": "code",
   "execution_count": 224,
   "metadata": {},
   "outputs": [
    {
     "name": "stdout",
     "output_type": "stream",
     "text": [
      "flood\n"
     ]
    }
   ],
   "source": [
    "print(preprocess_text('flooding'))"
   ]
  },
  {
   "cell_type": "code",
   "execution_count": 225,
   "metadata": {},
   "outputs": [],
   "source": [
    "import re\n",
    "\n",
    "def preProcessing_location(text):\n",
    "    # Convert to lowercase\n",
    "    text = text.lower()\n",
    "    \n",
    "    # Remove non-alphabetic characters while preserving whitespace\n",
    "    text = re.sub(r'[^a-zA-Z\\s]', '', text)\n",
    "    \n",
    "    # Replace multiple whitespace characters with a single space\n",
    "    text = re.sub(r'\\s+', ' ', text)\n",
    "    \n",
    "    # Strip leading and trailing whitespace\n",
    "    text = text.strip()\n",
    "\n",
    "    return text\n"
   ]
  },
  {
   "cell_type": "code",
   "execution_count": 226,
   "metadata": {},
   "outputs": [],
   "source": [
    "data['location'] = data['location'].fillna('')\n",
    "data['keyword'] = data['keyword'].fillna('')"
   ]
  },
  {
   "cell_type": "code",
   "execution_count": 227,
   "metadata": {},
   "outputs": [],
   "source": [
    "data['text'] = data['text'].apply(preprocess_text)"
   ]
  },
  {
   "cell_type": "code",
   "execution_count": 228,
   "metadata": {},
   "outputs": [
    {
     "data": {
      "text/plain": [
       "'get send photo ruby smoke pour school wildfire'"
      ]
     },
     "execution_count": 228,
     "metadata": {},
     "output_type": "execute_result"
    }
   ],
   "source": [
    "data['text'][4]"
   ]
  },
  {
   "cell_type": "code",
   "execution_count": 229,
   "metadata": {},
   "outputs": [],
   "source": [
    "data['location'] = data['location'].apply(preProcessing_location)"
   ]
  },
  {
   "cell_type": "code",
   "execution_count": 230,
   "metadata": {},
   "outputs": [
    {
     "data": {
      "text/plain": [
       "'get send photo ruby smoke pour school wildfire'"
      ]
     },
     "execution_count": 230,
     "metadata": {},
     "output_type": "execute_result"
    }
   ],
   "source": [
    "data['text'][4]"
   ]
  },
  {
   "cell_type": "code",
   "execution_count": 231,
   "metadata": {},
   "outputs": [],
   "source": [
    "data.to_csv('preprocessed_data.csv', index=False)"
   ]
  },
  {
   "cell_type": "code",
   "execution_count": null,
   "metadata": {},
   "outputs": [],
   "source": [
    "def proprocessing_location(text):\n",
    "    text = text.lower()\n",
    "\n",
    "    text = re.sub(r'\\b[A-Za-z0-9._%+-]+@[A-Za-z0-9.-]+\\.[A-Z|a-z]{2,}\\b', '', text)\n",
    "    # bỏ email\n",
    "\n",
    "    text = re.sub(r'@\\w+', '', text)\n",
    "    # bỏ @...\n",
    "    text = re.sub(r'http[s]?://\\S+', '', text)\n",
    "    # bỏ link\n",
    "\n",
    "    text = text.translate(str.maketrans('', '', string.punctuation))\n",
    "    # bỏ dấu câu và ký tự đặc biệt\n",
    "    text = re.sub(r'\\#\\w+', '', text)\n",
    "    # bỏ hashtag (#)\n",
    "    text = re.sub(r'[^\\x00-\\x7F]+', '', text)\n",
    "    # bỏ ký tự # unicode\n",
    "   \n"
   ]
  },
  {
   "cell_type": "code",
   "execution_count": 23,
   "metadata": {},
   "outputs": [],
   "source": [
    "import re\n",
    "import string\n",
    "import json\n",
    "\n",
    "def preProcessing_text(text):\n",
    "    text = text.lower()\n",
    "\n",
    "    text = re.sub(r'\\#\\w+', '', text)\n",
    "    # bỏ hashtag (#)\n",
    "    return text\n",
    "   \n"
   ]
  },
  {
   "cell_type": "code",
   "execution_count": 31,
   "metadata": {},
   "outputs": [
    {
     "name": "stdout",
     "output_type": "stream",
     "text": [
      "kjvkdfhgfkrefkeh  fwehfjewh \n"
     ]
    }
   ],
   "source": [
    "print(preProcessing_text(\"kjvkdfhgfkrefkeh #hfewhfekfk fwehfjewh #ewrwwe\"))"
   ]
  },
  {
   "cell_type": "code",
   "execution_count": 32,
   "metadata": {},
   "outputs": [
    {
     "data": {
      "text/plain": [
       "0       Our Deeds are the Reason of this #earthquake M...\n",
       "1                  Forest fire near La Ronge Sask. Canada\n",
       "2       All residents asked to 'shelter in place' are ...\n",
       "3       13,000 people receive #wildfires evacuation or...\n",
       "4       Just got sent this photo from Ruby #Alaska as ...\n",
       "                              ...                        \n",
       "7608    Two giant cranes holding a bridge collapse int...\n",
       "7609    @aria_ahrary @TheTawniest The out of control w...\n",
       "7610    M1.94 [01:04 UTC]?5km S of Volcano Hawaii. htt...\n",
       "7611    Police investigating after an e-bike collided ...\n",
       "7612    The Latest: More Homes Razed by Northern Calif...\n",
       "Name: text, Length: 7613, dtype: object"
      ]
     },
     "execution_count": 32,
     "metadata": {},
     "output_type": "execute_result"
    }
   ],
   "source": [
    "data['text']"
   ]
  },
  {
   "cell_type": "code",
   "execution_count": 33,
   "metadata": {},
   "outputs": [
    {
     "name": "stdout",
     "output_type": "stream",
     "text": [
      "Data has been cleaned and saved to removed_hashtag.csv\n"
     ]
    }
   ],
   "source": [
    "data['text'] = data['text'].apply(preProcessing_text)\n",
    "\n",
    "output_file = 'removed_hashtag.csv'\n",
    "data.to_csv(output_file, index=False)\n",
    "\n",
    "print(\"Data has been cleaned and saved to\", output_file)"
   ]
  },
  {
   "cell_type": "code",
   "execution_count": 31,
   "metadata": {},
   "outputs": [
    {
     "data": {
      "text/plain": [
       "True"
      ]
     },
     "execution_count": 31,
     "metadata": {},
     "output_type": "execute_result"
    }
   ],
   "source": [
    "lemmatizer.lemmatize('survived', pos='v') in english_words"
   ]
  },
  {
   "cell_type": "code",
   "execution_count": 32,
   "metadata": {},
   "outputs": [
    {
     "name": "stdout",
     "output_type": "stream",
     "text": [
      "Data has been cleaned and saved to cleaned_data.csv\n"
     ]
    }
   ],
   "source": [
    "data['cleaned_text'] = data['text'].apply(preprocess_text)\n",
    "data['location'] = data['location'].apply(preprocess_text)\n",
    "\n",
    "output_file = 'cleaned_data.csv'\n",
    "data[['id', 'keyword', 'location', 'cleaned_text', 'target']].to_csv(output_file, index=False)\n",
    "\n",
    "print(\"Data has been cleaned and saved to\", output_file)"
   ]
  },
  {
   "cell_type": "code",
   "execution_count": null,
   "metadata": {},
   "outputs": [],
   "source": []
  },
  {
   "cell_type": "markdown",
   "metadata": {},
   "source": [
    "bỏ trùng"
   ]
  }
 ],
 "metadata": {
  "kernelspec": {
   "display_name": "base",
   "language": "python",
   "name": "python3"
  },
  "language_info": {
   "codemirror_mode": {
    "name": "ipython",
    "version": 3
   },
   "file_extension": ".py",
   "mimetype": "text/x-python",
   "name": "python",
   "nbconvert_exporter": "python",
   "pygments_lexer": "ipython3",
   "version": "3.12.4"
  }
 },
 "nbformat": 4,
 "nbformat_minor": 2
}
